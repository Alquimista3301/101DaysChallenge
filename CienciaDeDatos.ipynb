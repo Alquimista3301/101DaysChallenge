{
  "nbformat": 4,
  "nbformat_minor": 0,
  "metadata": {
    "colab": {
      "name": "CienciaDeDatos",
      "provenance": [],
      "authorship_tag": "ABX9TyP//cTcWFsI/g6r/KDqnqB6",
      "include_colab_link": true
    },
    "kernelspec": {
      "name": "python3",
      "display_name": "Python 3"
    }
  },
  "cells": [
    {
      "cell_type": "markdown",
      "metadata": {
        "id": "view-in-github",
        "colab_type": "text"
      },
      "source": [
        "<a href=\"https://colab.research.google.com/github/patodeturing/101DaysChallenge/blob/youtubeTutorials/CienciaDeDatos.ipynb\" target=\"_parent\"><img src=\"https://colab.research.google.com/assets/colab-badge.svg\" alt=\"Open In Colab\"/></a>"
      ]
    },
    {
      "cell_type": "markdown",
      "metadata": {
        "id": "MR4zsHUZv_7M",
        "colab_type": "text"
      },
      "source": [
        "# Hacerca de este trabajo\n",
        "\n",
        "\n",
        "### Los heroes que lo han hecho posible:\n",
        "\n",
        "*   Elemento de la lista\n",
        "*   Elemento de la lista\n",
        "*   Elemento de la lista\n",
        "*   Elemento de la lista"
      ]
    },
    {
      "cell_type": "markdown",
      "metadata": {
        "id": "VPBn6VRv6d-E",
        "colab_type": "text"
      },
      "source": [
        "# Temario\n",
        "\n",
        "*   ¿Que es la Ciencia de datos?\n",
        "*   Fundamentos de Python.\n",
        "*   Tipos de datos y uso de Numpy.\n",
        "*   Manipulacion de datos con Pandas.\n",
        "*   Visualización de datos.\n",
        "*   Fundamentos de Matematicas.\n",
        "*   Machine Learning.\n"
      ]
    },
    {
      "cell_type": "markdown",
      "metadata": {
        "id": "finKAXZp81RN",
        "colab_type": "text"
      },
      "source": [
        "# ¿Que es la ciencia de Datos?\n",
        "---\n",
        "\n"
      ]
    },
    {
      "cell_type": "markdown",
      "metadata": {
        "id": "svFK0iiM9Va1",
        "colab_type": "text"
      },
      "source": [
        "## De paseo por la historia de la ciencia de datos."
      ]
    },
    {
      "cell_type": "markdown",
      "metadata": {
        "id": "L-RShXVQ9CPq",
        "colab_type": "text"
      },
      "source": [
        "# Lenguajes de programación.\n",
        "\n",
        "\n",
        "---\n",
        "\n"
      ]
    },
    {
      "cell_type": "markdown",
      "metadata": {
        "id": "IYEdxkFe86mf",
        "colab_type": "text"
      },
      "source": [
        "# Los entornos de desarrollo\n",
        "\n",
        "---\n",
        "\n"
      ]
    },
    {
      "cell_type": "markdown",
      "metadata": {
        "id": "6fAmvTh29mYk",
        "colab_type": "text"
      },
      "source": [
        "# Fundamentos de Python\n",
        "\n",
        "\n",
        "---\n",
        "\n"
      ]
    },
    {
      "cell_type": "markdown",
      "metadata": {
        "id": "JsUK8yZK9tb1",
        "colab_type": "text"
      },
      "source": [
        "# Introduccion a Numpy\n",
        "\n",
        "---\n",
        "\n"
      ]
    },
    {
      "cell_type": "markdown",
      "metadata": {
        "id": "22a7-E6k9xWk",
        "colab_type": "text"
      },
      "source": [
        "# Manipulación de datos con Pandas"
      ]
    },
    {
      "cell_type": "markdown",
      "metadata": {
        "id": "VGNVnr9E-CV7",
        "colab_type": "text"
      },
      "source": [
        "# Limpieza de datos."
      ]
    },
    {
      "cell_type": "markdown",
      "metadata": {
        "id": "ym_rYl4r93cA",
        "colab_type": "text"
      },
      "source": [
        "# Visaulizacion de datos."
      ]
    },
    {
      "cell_type": "markdown",
      "metadata": {
        "id": "GSj7HTO9-GbR",
        "colab_type": "text"
      },
      "source": [
        "# Datos generan mas datos. \n",
        "### ( Nuestro primer modelo de Machine Learning)."
      ]
    },
    {
      "cell_type": "code",
      "metadata": {
        "id": "SjRjHtGZ-cUn",
        "colab_type": "code",
        "colab": {}
      },
      "source": [
        ""
      ],
      "execution_count": 0,
      "outputs": []
    },
    {
      "cell_type": "markdown",
      "metadata": {
        "id": "quKG4m2h-cp5",
        "colab_type": "text"
      },
      "source": [
        "# Machine Learning."
      ]
    }
  ]
}